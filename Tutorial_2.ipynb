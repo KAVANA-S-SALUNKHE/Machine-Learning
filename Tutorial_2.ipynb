{
  "nbformat": 4,
  "nbformat_minor": 0,
  "metadata": {
    "colab": {
      "name": "Untitled2.ipynb",
      "provenance": [],
      "authorship_tag": "ABX9TyOmwgxNSReAlUYSHnEbFsel",
      "include_colab_link": true
    },
    "kernelspec": {
      "name": "python3",
      "display_name": "Python 3"
    }
  },
  "cells": [
    {
      "cell_type": "markdown",
      "metadata": {
        "id": "view-in-github",
        "colab_type": "text"
      },
      "source": [
        "<a href=\"https://colab.research.google.com/github/KAVANA-S-SALUNKHE/Machine-Learning/blob/main/Tutorial_2.ipynb\" target=\"_parent\"><img src=\"https://colab.research.google.com/assets/colab-badge.svg\" alt=\"Open In Colab\"/></a>"
      ]
    },
    {
      "cell_type": "code",
      "metadata": {
        "id": "f_ZAP4rMZIjc"
      },
      "source": [
        ""
      ],
      "execution_count": null,
      "outputs": []
    },
    {
      "cell_type": "code",
      "metadata": {
        "id": "IPtSgwu_r9C5",
        "colab": {
          "base_uri": "https://localhost:8080/",
          "height": 346
        },
        "outputId": "926a26d0-42ea-453b-8960-3cb6b45b0cf3"
      },
      "source": [
        "import numpy as np\r\n",
        "import matplotlib.pyplot as plt\r\n",
        "import math\r\n",
        "import scipy.stats as stats\r\n",
        "\r\n",
        "#3. curve fitting for the data given[(1,1.2), (2,1.9), (3,3.2)]\r\n",
        "beta=1\r\n",
        "mu=(1,2,3)\r\n",
        "var=(1.2,1.9,3.2)\r\n",
        "print (mu)\r\n",
        "print (var)\r\n",
        "p1 = np.polyfit(mu,var,1)\r\n",
        "print (p1)\r\n",
        "\r\n",
        "plt.title(\"Maximum likelihood Function\")\r\n",
        "plt.xlabel(\"Data points\")\r\n",
        "plt.ylabel(\"Fitting points\")\r\n",
        "\r\n",
        "x=np.polyval(p1,mu)\r\n",
        "plt.plot (mu,var,'*')\r\n",
        "plt.plot(mu,x,color='k')\r\n",
        "plt.show()"
      ],
      "execution_count": 1,
      "outputs": [
        {
          "output_type": "stream",
          "text": [
            "(1, 2, 3)\n",
            "(1.2, 1.9, 3.2)\n",
            "[1.  0.1]\n"
          ],
          "name": "stdout"
        },
        {
          "output_type": "display_data",
          "data": {
            "image/png": "[encoded data removed]",
            "text/plain": [
              "<Figure size 432x288 with 1 Axes>"
            ]
          },
          "metadata": {
            "tags": [],
            "needs_background": "light"
          }
        }
      ]
    }
  ]
}